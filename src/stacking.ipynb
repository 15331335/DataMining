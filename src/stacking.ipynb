{
 "cells": [
  {
   "cell_type": "code",
   "execution_count": 1,
   "metadata": {},
   "outputs": [
    {
     "name": "stderr",
     "output_type": "stream",
     "text": [
      "/usr/local/lib/python3.6/site-packages/sklearn/cross_validation.py:41: DeprecationWarning: This module was deprecated in version 0.18 in favor of the model_selection module into which all the refactored classes and functions are moved. Also note that the interface of the new CV iterators are different from that of this module. This module will be removed in 0.20.\n",
      "  \"This module will be removed in 0.20.\", DeprecationWarning)\n"
     ]
    }
   ],
   "source": [
    "import numpy as np\n",
    "import pandas as pd\n",
    "from sklearn.cross_validation import StratifiedKFold\n",
    "from sklearn.ensemble import RandomForestClassifier, ExtraTreesClassifier\n",
    "from sklearn.ensemble import GradientBoostingClassifier\n",
    "from sklearn.linear_model import LogisticRegression\n",
    "\n",
    "\n",
    "train = pd.read_csv('./train_feature.csv').fillna(0)\n",
    "test = pd.read_csv('./test_feature.csv').fillna(0)\n",
    "uid = test.uid\n",
    "\n",
    "data = train.drop(['uid','label'],axis=1).values\n",
    "target = train.label.values"
   ]
  },
  {
   "cell_type": "code",
   "execution_count": 6,
   "metadata": {},
   "outputs": [],
   "source": [
    "def logloss(attempt, actual, epsilon=1.0e-15):\n",
    "    \"\"\"Logloss, i.e. the score of the bioresponse competition.\n",
    "    \"\"\"\n",
    "    attempt = np.clip(attempt, epsilon, 1.0-epsilon)\n",
    "    return - np.mean(actual * np.log(attempt) +\n",
    "                     (1.0 - actual) * np.log(1.0 - attempt))"
   ]
  },
  {
   "cell_type": "code",
   "execution_count": 9,
   "metadata": {},
   "outputs": [],
   "source": [
    "def load_data():\n",
    "    train = pd.read_csv('./train_feature.csv')\n",
    "    test = pd.read_csv('./test_feature.csv')\n",
    "    label = train.label.values\n",
    "    uid = test.uid.values\n",
    "    train_feature = train.drop(['uid', 'label'], axis=1).values\n",
    "    test_feature = test.drop(['uid'], axis=1).values\n",
    "    return train_feature, label, test_feature\n"
   ]
  },
  {
   "cell_type": "code",
   "execution_count": 10,
   "metadata": {},
   "outputs": [
    {
     "name": "stdout",
     "output_type": "stream",
     "text": [
      "Creating train and test sets for blending.\n",
      "Blending.\n",
      "Linear stretch of predictions to [0,1]\n",
      "Saving Results.\n"
     ]
    }
   ],
   "source": [
    "np.random.seed(0)  # seed to shuffle the train set\n",
    "\n",
    "n_folds = 10\n",
    "verbose = True\n",
    "shuffle = False\n",
    "\n",
    "X, y, X_submission = load_data()\n",
    "\n",
    "if shuffle:\n",
    "    idx = np.random.permutation(y.size)\n",
    "    X = X[idx]\n",
    "    y = y[idx]\n",
    "\n",
    "skf = list(StratifiedKFold(y, n_folds))\n",
    "\n",
    "clfs = [RandomForestClassifier(n_estimators=100, n_jobs=-1, criterion='gini'),\n",
    "        RandomForestClassifier(n_estimators=100, n_jobs=-1, criterion='entropy'),\n",
    "        ExtraTreesClassifier(n_estimators=100, n_jobs=-1, criterion='gini'),\n",
    "        ExtraTreesClassifier(n_estimators=100, n_jobs=-1, criterion='entropy'),\n",
    "        GradientBoostingClassifier(learning_rate=0.05, subsample=0.5, max_depth=6, n_estimators=50)]\n",
    "\n",
    "print(\"Creating train and test sets for blending.\")\n",
    "\n",
    "dataset_blend_train = np.zeros((X.shape[0], len(clfs)))\n",
    "dataset_blend_test = np.zeros((X_submission.shape[0], len(clfs)))\n",
    "\n",
    "for j, clf in enumerate(clfs):\n",
    "    dataset_blend_test_j = np.zeros((X_submission.shape[0], len(skf)))\n",
    "    for i, (train, test) in enumerate(skf):\n",
    "        X_train = X[train]\n",
    "        y_train = y[train]\n",
    "        X_test = X[test]\n",
    "        y_test = y[test]\n",
    "        clf.fit(X_train, y_train)\n",
    "        y_submission = clf.predict_proba(X_test)[:, 1]\n",
    "        dataset_blend_train[test, j] = y_submission\n",
    "        dataset_blend_test_j[:, i] = clf.predict_proba(X_submission)[:, 1]\n",
    "    dataset_blend_test[:, j] = dataset_blend_test_j.mean(1)\n",
    "\n",
    "print(\"Blending.\")\n",
    "clf = LogisticRegression()\n",
    "clf.fit(dataset_blend_train, y)\n",
    "y_submission = clf.predict_proba(dataset_blend_test)[:, 1]\n",
    "\n",
    "print(\"Linear stretch of predictions to [0,1]\")\n",
    "y_submission = (y_submission - y_submission.min()) / (y_submission.max() - y_submission.min())\n",
    "\n",
    "print(\"Saving Results.\")\n",
    "tmp = np.vstack([range(1, len(y_submission)+1), y_submission]).T\n",
    "np.savetxt(fname='submission.csv', X=tmp, fmt='%d,%0.9f',\n",
    "            header='MoleculeId,PredictedProbability', comments='')"
   ]
  },
  {
   "cell_type": "code",
   "execution_count": 11,
   "metadata": {},
   "outputs": [],
   "source": [
    "def evalMetric(preds,dtrain):\n",
    "    label = dtrain.get_label()\n",
    "    pre = pd.DataFrame({'preds':preds,'label':label})\n",
    "    pre= pre.sort_values(by='preds',ascending=False)\n",
    "    auc = metrics.roc_auc_score(pre.label,pre.preds)\n",
    "    pre.preds=pre.preds.map(lambda x: 1 if x>=0.5 else 0)\n",
    "    f1 = metrics.f1_score(pre.label,pre.preds)\n",
    "    res = 0.6*auc +0.4*f1\n",
    "    return 'res',res,True"
   ]
  },
  {
   "cell_type": "code",
   "execution_count": 13,
   "metadata": {},
   "outputs": [
    {
     "name": "stdout",
     "output_type": "stream",
     "text": [
      "[5]\tcv_agg's res: 0.819918 + 0.0266649\n",
      "[10]\tcv_agg's res: 0.822026 + 0.0260273\n",
      "[15]\tcv_agg's res: 0.821383 + 0.0226619\n",
      "[20]\tcv_agg's res: 0.821111 + 0.0189412\n",
      "[25]\tcv_agg's res: 0.822947 + 0.0243362\n",
      "[30]\tcv_agg's res: 0.822803 + 0.0234218\n",
      "[35]\tcv_agg's res: 0.822131 + 0.0214244\n",
      "[40]\tcv_agg's res: 0.823137 + 0.0201675\n",
      "[45]\tcv_agg's res: 0.823252 + 0.0198352\n",
      "[50]\tcv_agg's res: 0.823602 + 0.0192888\n",
      "[55]\tcv_agg's res: 0.821506 + 0.0200921\n",
      "[60]\tcv_agg's res: 0.820721 + 0.0215351\n",
      "[65]\tcv_agg's res: 0.820602 + 0.0215233\n",
      "[70]\tcv_agg's res: 0.818748 + 0.0242002\n",
      "[75]\tcv_agg's res: 0.818883 + 0.0222163\n",
      "[80]\tcv_agg's res: 0.819635 + 0.0198917\n",
      "[85]\tcv_agg's res: 0.817528 + 0.0209676\n",
      "[90]\tcv_agg's res: 0.816444 + 0.0212905\n",
      "[95]\tcv_agg's res: 0.816253 + 0.0211429\n",
      "[100]\tcv_agg's res: 0.815566 + 0.0209671\n",
      "[105]\tcv_agg's res: 0.816249 + 0.0219976\n",
      "[110]\tcv_agg's res: 0.814894 + 0.0230418\n",
      "[115]\tcv_agg's res: 0.813916 + 0.0223752\n",
      "[120]\tcv_agg's res: 0.814419 + 0.0229705\n",
      "[125]\tcv_agg's res: 0.81558 + 0.0234499\n",
      "[130]\tcv_agg's res: 0.813506 + 0.0239824\n",
      "[135]\tcv_agg's res: 0.813321 + 0.0251986\n",
      "[140]\tcv_agg's res: 0.812294 + 0.0237282\n",
      "[145]\tcv_agg's res: 0.81197 + 0.0235577\n",
      "[150]\tcv_agg's res: 0.813289 + 0.0232958\n"
     ]
    },
    {
     "data": {
      "text/plain": [
       "{'res-mean': [0.8123633633399192,\n",
       "  0.8165813523955062,\n",
       "  0.8184929052416144,\n",
       "  0.8197105924813869,\n",
       "  0.8199179814676439,\n",
       "  0.821533932408174,\n",
       "  0.8218886112276111,\n",
       "  0.8215955070921425,\n",
       "  0.8225145158143873,\n",
       "  0.8220263247750796,\n",
       "  0.8226421937168225,\n",
       "  0.822927609226543,\n",
       "  0.823075591082782,\n",
       "  0.8231860500270992,\n",
       "  0.8213825251992762,\n",
       "  0.822408635338495,\n",
       "  0.8213222937077702,\n",
       "  0.8209279440555785,\n",
       "  0.8206427435191552,\n",
       "  0.8211106330864875,\n",
       "  0.822014686881111,\n",
       "  0.8226028130091816,\n",
       "  0.8220771499347839,\n",
       "  0.82315430845357,\n",
       "  0.8229469535571592,\n",
       "  0.8234346918220995,\n",
       "  0.8233573129051157,\n",
       "  0.8235226644093008,\n",
       "  0.8224746235390226,\n",
       "  0.8228033247955745,\n",
       "  0.8228091363870528,\n",
       "  0.8225867568599344,\n",
       "  0.8224216715799862,\n",
       "  0.8222430725322483,\n",
       "  0.8221305334268431,\n",
       "  0.8220926689469076,\n",
       "  0.8221648259886969,\n",
       "  0.8230334278201485,\n",
       "  0.8229796736395649,\n",
       "  0.8231367808871835,\n",
       "  0.8234442908789312,\n",
       "  0.8232855415477651,\n",
       "  0.8230457961864552,\n",
       "  0.8227289079965056,\n",
       "  0.8232518602729936,\n",
       "  0.8237340624856087,\n",
       "  0.8235070452892359,\n",
       "  0.8231979828481698,\n",
       "  0.8235101881760514,\n",
       "  0.8236017499279402,\n",
       "  0.8237528994145158],\n",
       " 'res-stdv': [0.021178225701028362,\n",
       "  0.024816431372037547,\n",
       "  0.02613856954394211,\n",
       "  0.022762997602639938,\n",
       "  0.02666486260864429,\n",
       "  0.02530227871291061,\n",
       "  0.022537645773088234,\n",
       "  0.0252086044727261,\n",
       "  0.023524232987175132,\n",
       "  0.026027264899304004,\n",
       "  0.02514045743252586,\n",
       "  0.023168816563548907,\n",
       "  0.02513649302659773,\n",
       "  0.024306437207199813,\n",
       "  0.022661875070775214,\n",
       "  0.022040038814929483,\n",
       "  0.022186519480041255,\n",
       "  0.02106156820929483,\n",
       "  0.01957744056301668,\n",
       "  0.01894120884713807,\n",
       "  0.019827161693512122,\n",
       "  0.021856591895205217,\n",
       "  0.023445628443891354,\n",
       "  0.02404993584281199,\n",
       "  0.024336184182215937,\n",
       "  0.02334043341367927,\n",
       "  0.02369575455609224,\n",
       "  0.023958231468364136,\n",
       "  0.02290687795122022,\n",
       "  0.02342178391768269,\n",
       "  0.022489041879235123,\n",
       "  0.022411328704742405,\n",
       "  0.021605843193455286,\n",
       "  0.02233672975305444,\n",
       "  0.021424365886989344,\n",
       "  0.021971453245429942,\n",
       "  0.0214177171761366,\n",
       "  0.020937467866271025,\n",
       "  0.020074475928716685,\n",
       "  0.02016749340232479,\n",
       "  0.02050939460891272,\n",
       "  0.01982008116397622,\n",
       "  0.020071454156823227,\n",
       "  0.02036271269368506,\n",
       "  0.01983521318810024,\n",
       "  0.01983114933136232,\n",
       "  0.019783719306692125,\n",
       "  0.019299927638000616,\n",
       "  0.019473396745732965,\n",
       "  0.019288830266661474,\n",
       "  0.020747439575152665]}"
      ]
     },
     "execution_count": 13,
     "metadata": {},
     "output_type": "execute_result"
    }
   ],
   "source": [
    "import lightgbm as lgb\n",
    "from sklearn import metrics\n",
    "from multiprocessing import cpu_count\n",
    "lgb_params =  {\n",
    "    'boosting_type': 'gbdt',\n",
    "    'objective': 'binary',\n",
    "   'metric': ('multi_logloss', 'multi_error'),\n",
    "    #'metric_freq': 100,\n",
    "    'is_training_metric': False,\n",
    "    'min_data_in_leaf': 12,\n",
    "    'num_leaves': 24,  # 21 24\n",
    "    'learning_rate': 0.08,  # 0.08\n",
    "    'feature_fraction': 0.8,\n",
    "    'bagging_fraction': 0.8,\n",
    "    'verbosity':-1,\n",
    "    'num_threads': cpu_count() - 1\n",
    "#    'gpu_device_id':2,\n",
    "#    'device':'gpu'\n",
    "#    'lambda_l1': 0.001,\n",
    "#    'skip_drop': 0.95,\n",
    "#    'max_drop' : 10\n",
    "    #'lambda_l2': 0.005\n",
    "    #'num_threads': 18\n",
    "}\n",
    "\n",
    "dtrain = lgb.Dataset(dataset_blend_train,label=y)\n",
    "\n",
    "lgb.cv(lgb_params,dtrain,feval=evalMetric,early_stopping_rounds=100,verbose_eval=5,num_boost_round=10000,nfold=5,metrics=['evalMetric'])"
   ]
  },
  {
   "cell_type": "code",
   "execution_count": 14,
   "metadata": {},
   "outputs": [
    {
     "name": "stdout",
     "output_type": "stream",
     "text": [
      "[5]\ttraining's res: 0.851164\n",
      "[10]\ttraining's res: 0.856637\n",
      "[15]\ttraining's res: 0.860279\n",
      "[20]\ttraining's res: 0.862803\n",
      "[25]\ttraining's res: 0.868212\n",
      "[30]\ttraining's res: 0.873046\n",
      "[35]\ttraining's res: 0.87424\n",
      "[40]\ttraining's res: 0.877448\n",
      "[45]\ttraining's res: 0.878544\n",
      "[50]\ttraining's res: 0.880604\n",
      "[55]\ttraining's res: 0.882248\n",
      "[60]\ttraining's res: 0.885483\n",
      "[65]\ttraining's res: 0.886853\n",
      "[70]\ttraining's res: 0.889819\n",
      "[75]\ttraining's res: 0.89224\n",
      "[80]\ttraining's res: 0.894978\n",
      "[85]\ttraining's res: 0.899907\n",
      "[90]\ttraining's res: 0.903344\n",
      "[95]\ttraining's res: 0.906501\n",
      "[100]\ttraining's res: 0.910029\n",
      "[105]\ttraining's res: 0.911485\n",
      "[110]\ttraining's res: 0.913773\n",
      "[115]\ttraining's res: 0.916049\n",
      "[120]\ttraining's res: 0.919757\n",
      "[125]\ttraining's res: 0.922685\n",
      "[130]\ttraining's res: 0.924781\n",
      "[135]\ttraining's res: 0.927344\n",
      "[140]\ttraining's res: 0.929237\n",
      "[145]\ttraining's res: 0.932897\n",
      "[150]\ttraining's res: 0.935934\n",
      "[155]\ttraining's res: 0.937553\n",
      "[160]\ttraining's res: 0.93997\n",
      "[165]\ttraining's res: 0.941644\n",
      "[170]\ttraining's res: 0.943397\n",
      "[175]\ttraining's res: 0.94424\n",
      "[180]\ttraining's res: 0.947626\n",
      "[185]\ttraining's res: 0.949024\n",
      "[190]\ttraining's res: 0.950539\n",
      "[195]\ttraining's res: 0.952721\n",
      "[200]\ttraining's res: 0.953645\n",
      "[205]\ttraining's res: 0.955638\n",
      "[210]\ttraining's res: 0.957272\n",
      "[215]\ttraining's res: 0.958863\n",
      "[220]\ttraining's res: 0.960625\n",
      "[225]\ttraining's res: 0.963242\n",
      "[230]\ttraining's res: 0.965801\n",
      "[235]\ttraining's res: 0.96742\n",
      "[240]\ttraining's res: 0.968786\n",
      "[245]\ttraining's res: 0.97178\n",
      "[250]\ttraining's res: 0.972452\n",
      "[255]\ttraining's res: 0.974618\n",
      "[260]\ttraining's res: 0.975241\n",
      "[265]\ttraining's res: 0.976508\n",
      "[270]\ttraining's res: 0.976345\n",
      "[275]\ttraining's res: 0.976892\n",
      "[280]\ttraining's res: 0.97772\n",
      "[285]\ttraining's res: 0.97874\n",
      "[290]\ttraining's res: 0.97975\n",
      "[295]\ttraining's res: 0.9803\n",
      "[300]\ttraining's res: 0.981239\n"
     ]
    }
   ],
   "source": [
    "model =lgb.train(lgb_params,dtrain,feval=evalMetric,verbose_eval=5,num_boost_round=300,valid_sets=[dtrain])"
   ]
  },
  {
   "cell_type": "code",
   "execution_count": 15,
   "metadata": {},
   "outputs": [],
   "source": [
    "test = pd.read_csv('./test_feature.csv')\n",
    "\n",
    "pred = model.predict(dataset_blend_test)\n",
    "res = pd.DataFrame({'uid':test.uid,'label':pred})\n",
    "res = res.sort_values(by='label',ascending=False)\n",
    "res.label = res.label.map(lambda x: 1 if x>=0.5 else 0)\n",
    "res.label = res.label.map(lambda x: int(x))\n",
    "\n",
    "res.to_csv('./result_stacking.csv',index=False,header=False,sep=',',columns=['uid','label'])"
   ]
  },
  {
   "cell_type": "code",
   "execution_count": 19,
   "metadata": {},
   "outputs": [],
   "source": [
    "temp = pd.read_csv('./submission.csv')\n",
    "res = pd.DataFrame({'uid':test.uid,'label':temp.PredictedProbability})\n",
    "res = res.sort_values(by='label',ascending=False)\n",
    "res.label = res.label.map(lambda x: 1 if x>=0.5 else 0)\n",
    "res.label = res.label.map(lambda x: int(x))\n",
    "res.to_csv('./sumission_stacking.csv',index=False,header=False,sep=',',columns=['uid','label'])"
   ]
  },
  {
   "cell_type": "code",
   "execution_count": 32,
   "metadata": {},
   "outputs": [],
   "source": [
    "#voting\n",
    "a = pd.read_csv('./0.859888.csv', names=['uid','label1'])\n",
    "b = pd.read_csv('./0.853034.csv', names=['uid','label2'])\n",
    "c = pd.read_csv('./sumission_stacking.csv', names=['uid','label3'])\n",
    "d = pd.read_csv('./result_stacking.csv', names=['uid','label4'])"
   ]
  },
  {
   "cell_type": "code",
   "execution_count": 33,
   "metadata": {},
   "outputs": [],
   "source": [
    "ab=pd.merge(a,b,how='left',on='uid')\n",
    "abc = pd.merge(ab,c,how='left',on='uid')\n",
    "abcd = pd.merge(abc,d,how='left',on='uid')"
   ]
  },
  {
   "cell_type": "code",
   "execution_count": 35,
   "metadata": {},
   "outputs": [],
   "source": [
    "abcd['cnt'] = abcd.label1 + abcd.label2 + abcd.label3 + abcd.label4"
   ]
  },
  {
   "cell_type": "code",
   "execution_count": 45,
   "metadata": {},
   "outputs": [
    {
     "data": {
      "text/plain": [
       "array(['u8631', 'u8742', 'u7902', 'u7819', 'u7007', 'u9257', 'u7266',\n",
       "       'u7032', 'u8369', 'u7111', 'u8882', 'u9705', 'u7477', 'u8114'],\n",
       "      dtype=object)"
      ]
     },
     "execution_count": 45,
     "metadata": {},
     "output_type": "execute_result"
    }
   ],
   "source": [
    "abcd[(abcd.cnt >= 3) & (abcd.label1 != 1)].uid.values  #14"
   ]
  },
  {
   "cell_type": "code",
   "execution_count": 69,
   "metadata": {},
   "outputs": [
    {
     "data": {
      "text/plain": [
       "array(['u8764', 'u9683', 'u9908', 'u8736', 'u7742', 'u8454', 'u7879',\n",
       "       'u7391', 'u8665', 'u7358', 'u9777', 'u8567', 'u8597', 'u7364',\n",
       "       'u9088', 'u9128', 'u7213', 'u7765', 'u8779', 'u8836'], dtype=object)"
      ]
     },
     "execution_count": 69,
     "metadata": {},
     "output_type": "execute_result"
    }
   ],
   "source": [
    "abcd[(abcd.cnt <= 1) & (abcd.label1 != 0)].uid.values  #20"
   ]
  },
  {
   "cell_type": "code",
   "execution_count": 56,
   "metadata": {},
   "outputs": [],
   "source": [
    "special = pd.read_csv('./special.csv', names=['uid','label'])\n",
    "for i in abcd[(abcd.cnt >= 3) & (abcd.label1 != 1)].uid.values:\n",
    "    special.loc[special.uid == i, 'label'] = 1\n",
    "    \n",
    "for i in abcd[(abcd.cnt <= 1) & (abcd.label1 != 0)].uid.values:\n",
    "    special.loc[special.uid == i, 'label'] = 0"
   ]
  },
  {
   "cell_type": "code",
   "execution_count": 57,
   "metadata": {},
   "outputs": [],
   "source": [
    "special = special.sort_values(by='label',ascending=False)"
   ]
  },
  {
   "cell_type": "code",
   "execution_count": 58,
   "metadata": {},
   "outputs": [],
   "source": [
    "special.to_csv('./special_sorted.csv',index=False,header=False,sep=',',columns=['uid','label'])"
   ]
  },
  {
   "cell_type": "code",
   "execution_count": 59,
   "metadata": {},
   "outputs": [],
   "source": [
    "#testing\n",
    "e = pd.read_csv('./0.864.csv', names=['uid','label5'])\n",
    "f = pd.read_csv('./0.866.csv', names=['uid','label6'])\n",
    "g = pd.read_csv('./0.867.csv', names=['uid','label7'])\n",
    "h = pd.read_csv('./0.868.csv', names=['uid','label8'])\n",
    "i = pd.read_csv('./0.869.csv', names=['uid','label9'])"
   ]
  },
  {
   "cell_type": "code",
   "execution_count": 60,
   "metadata": {},
   "outputs": [],
   "source": [
    "abcde=pd.merge(abcd,e,how='left',on='uid')\n",
    "abcdef = pd.merge(abcde,f,how='left',on='uid')\n",
    "abcdefg = pd.merge(abcdef,g,how='left',on='uid')\n",
    "abcdefgh = pd.merge(abcdefg,h,how='left',on='uid')\n",
    "abcdefghi = pd.merge(abcdefgh,i,how='left',on='uid')"
   ]
  },
  {
   "cell_type": "code",
   "execution_count": 63,
   "metadata": {},
   "outputs": [],
   "source": [
    "abcdefghi['cnt'] = abcdefghi.label1 + abcdefghi.label2 + abcdefghi.label3 + abcdefghi.label4 + abcdefghi.label5 + abcdefghi.label6 + abcdefghi.label7 + abcdefghi.label8 + abcdefghi.label9"
   ]
  },
  {
   "cell_type": "code",
   "execution_count": null,
   "metadata": {},
   "outputs": [],
   "source": []
  },
  {
   "cell_type": "code",
   "execution_count": null,
   "metadata": {},
   "outputs": [],
   "source": []
  },
  {
   "cell_type": "code",
   "execution_count": null,
   "metadata": {},
   "outputs": [],
   "source": []
  }
 ],
 "metadata": {
  "kernelspec": {
   "display_name": "Python 3",
   "language": "python",
   "name": "python3"
  },
  "language_info": {
   "codemirror_mode": {
    "name": "ipython",
    "version": 3
   },
   "file_extension": ".py",
   "mimetype": "text/x-python",
   "name": "python",
   "nbconvert_exporter": "python",
   "pygments_lexer": "ipython3",
   "version": "3.6.5"
  }
 },
 "nbformat": 4,
 "nbformat_minor": 2
}
