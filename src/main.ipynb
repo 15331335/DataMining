{
 "cells": [
  {
   "cell_type": "code",
   "execution_count": 1,
   "metadata": {},
   "outputs": [],
   "source": [
    "import pandas as pd\n",
    "import numpy as np\n",
    "\n",
    "import warnings\n",
    "warnings.filterwarnings('ignore')"
   ]
  },
  {
   "cell_type": "code",
   "execution_count": 2,
   "metadata": {},
   "outputs": [],
   "source": [
    "# load train data\n",
    "uid_train = pd.read_csv('../data/train/uid_train.txt',sep='\\t',header=None,names=('uid','label'))\n",
    "voice_train = pd.read_csv('../data/train/voice_train.txt',sep='\\t',header=None,names=('uid','opp_num','opp_head','opp_len','start_time','end_time','call_type','in_out'),dtype={'start_time':str,'end_time':str})\n",
    "sms_train = pd.read_csv('../data/train/sms_train.txt',sep='\\t',header=None,names=('uid','opp_num','opp_head','opp_len','start_time','in_out'),dtype={'start_time':str})\n",
    "wa_train = pd.read_csv('../data/train/wa_train.txt',sep='\\t',header=None,names=('uid','wa_name','visit_cnt','visit_dura','up_flow','down_flow','wa_type','date'),dtype={'date':str})"
   ]
  },
  {
   "cell_type": "code",
   "execution_count": 3,
   "metadata": {},
   "outputs": [],
   "source": [
    "# load test data\n",
    "voice_test = pd.read_csv('../data/testB/voice_test_b.txt',sep='\\t',header=None,names=('uid','opp_num','opp_head','opp_len','start_time','end_time','call_type','in_out'),dtype={'start_time':str,'end_time':str})\n",
    "sms_test = pd.read_csv('../data/testB/sms_test_b.txt',sep='\\t',header=None,names=('uid','opp_num','opp_head','opp_len','start_time','in_out'),dtype={'start_time':str})\n",
    "wa_test = pd.read_csv('../data/testB/wa_test_b.txt',sep='\\t',header=None,names=('uid','wa_name','visit_cnt','visit_dura','up_flow','down_flow','wa_type','date'),dtype={'date':str})"
   ]
  },
  {
   "cell_type": "code",
   "execution_count": 4,
   "metadata": {},
   "outputs": [],
   "source": [
    "uid_test = pd.DataFrame({'uid':pd.unique(wa_test['uid'])})\n",
    "uid_test.to_csv('./uid_test_b.txt',index=None)"
   ]
  },
  {
   "cell_type": "code",
   "execution_count": 5,
   "metadata": {},
   "outputs": [],
   "source": [
    "# reset\n",
    "voice = pd.concat([voice_train,voice_test],axis=0)\n",
    "sms = pd.concat([sms_train,sms_test],axis=0)\n",
    "wa = pd.concat([wa_train,wa_test],axis=0)"
   ]
  },
  {
   "cell_type": "markdown",
   "metadata": {},
   "source": [
    "**voice records**"
   ]
  },
  {
   "cell_type": "code",
   "execution_count": 6,
   "metadata": {},
   "outputs": [],
   "source": [
    "voice_cnt = voice.groupby(['uid'])['in_out'].agg({'voice_count':'count'}).reset_index()\n",
    "voice_unique_num_cnt = voice.groupby(['uid'])['opp_num'].agg({'voice_opp_num_unique_count': lambda x: len(pd.unique(x))}).reset_index()\n",
    "# voice_unique_head_cnt = voice.groupby(['uid'])['opp_head'].agg({'voice_opp_head_unique_count': lambda x: len(pd.unique(x))}).reset_index()\n"
   ]
  },
  {
   "cell_type": "code",
   "execution_count": 7,
   "metadata": {},
   "outputs": [],
   "source": [
    "voice_onehot_len_cnt = voice.groupby(['uid','opp_len'])['uid'].count().unstack().add_prefix('voice_opp_len_').reset_index().fillna(0)\n",
    "voice_onehot_type_cnt = voice.groupby(['uid','call_type'])['uid'].count().unstack().add_prefix('voice_call_type_').reset_index().fillna(0)\n",
    "voice_onehot_inout_cnt = voice.groupby(['uid','in_out'])['uid'].count().unstack().add_prefix('voice_in_out_').reset_index().fillna(0)\n",
    "\n",
    "voice_onehot_head_cnt = voice.groupby(['uid','opp_head'])['uid'].count().unstack().add_prefix('voice_opp_head_').reset_index().fillna(0)\n"
   ]
  },
  {
   "cell_type": "code",
   "execution_count": 8,
   "metadata": {},
   "outputs": [],
   "source": [
    "voice['start_day'] = (voice.start_time.astype(int) / 1000000).astype(int)\n",
    "voice['start_hour'] = (voice.start_time.astype(int) % 1000000 / 10000).astype(int)\n",
    "voice['start_minute'] = (voice.start_time.astype(int) % 10000 / 100).astype(int)\n",
    "voice['start_second'] = voice.start_time.astype(int) % 100\n",
    "\n",
    "voice['end_day'] = (voice.end_time.astype(int) / 1000000).astype(int)\n",
    "voice['end_hour'] = (voice.end_time.astype(int) % 1000000 / 10000).astype(int)\n",
    "voice['end_minute'] = (voice.end_time.astype(int) % 10000 / 100).astype(int)\n",
    "voice['end_second'] = voice.end_time.astype(int) % 100\n",
    "\n",
    "voice['voice_dura'] = (voice.end_day-voice.start_day)*24*60*60+(voice.end_hour-voice.start_hour)*60*60+(voice.end_minute-voice.start_minute)*60+(voice.end_second-voice.start_second)"
   ]
  },
  {
   "cell_type": "code",
   "execution_count": 9,
   "metadata": {},
   "outputs": [],
   "source": [
    "voice_dura_val = voice.groupby(['uid'])['voice_dura'].agg(['std','max','min','median','mean','sum']).add_prefix('voice_dura_').reset_index()\n",
    "voice_onehot_hour_cnt = voice.groupby(['uid','start_hour'])['uid'].count().unstack().add_prefix('voice_start_hour_').reset_index().fillna(0)\n"
   ]
  },
  {
   "cell_type": "code",
   "execution_count": null,
   "metadata": {},
   "outputs": [],
   "source": []
  },
  {
   "cell_type": "markdown",
   "metadata": {},
   "source": [
    "**sms records**"
   ]
  },
  {
   "cell_type": "code",
   "execution_count": 11,
   "metadata": {},
   "outputs": [],
   "source": [
    "sms_cnt = sms.groupby(['uid'])['in_out'].agg({'sms_count':'count'}).reset_index()\n",
    "sms_unique_num_cnt = sms.groupby(['uid'])['opp_num'].agg({'sms_opp_num_unique_count': lambda x: len(pd.unique(x))}).reset_index()\n",
    "# sms_unique_head_cnt = sms.groupby(['uid'])['opp_head'].agg({'sms_opp_head_unique_count': lambda x: len(pd.unique(x))}).reset_index()\n"
   ]
  },
  {
   "cell_type": "code",
   "execution_count": 12,
   "metadata": {},
   "outputs": [],
   "source": [
    "sms_onehot_len_cnt = sms.groupby(['uid','opp_len'])['uid'].count().unstack().add_prefix('sms_opp_len_').reset_index().fillna(0)\n",
    "sms_onehot_inout_cnt = sms.groupby(['uid','in_out'])['uid'].count().unstack().add_prefix('sms_in_out_').reset_index().fillna(0)\n",
    "\n",
    "sms_onehot_head_cnt = sms.groupby(['uid','opp_head'])['uid'].count().unstack().add_prefix('sms_opp_head_').reset_index().fillna(0)\n"
   ]
  },
  {
   "cell_type": "code",
   "execution_count": 13,
   "metadata": {},
   "outputs": [],
   "source": [
    "sms['start_day'] = (sms.start_time.astype(int) / 1000000).astype(int)\n",
    "sms['start_hour'] = (sms.start_time.astype(int) % 1000000 / 10000).astype(int)\n",
    "sms['start_minute'] = (sms.start_time.astype(int) % 10000 / 100).astype(int)\n",
    "sms['start_second'] = sms.start_time.astype(int) % 100\n",
    "\n",
    "sms_onehot_hour_cnt = sms.groupby(['uid','start_hour'])['uid'].count().unstack().add_prefix('sms_start_hour_').reset_index().fillna(0)\n"
   ]
  },
  {
   "cell_type": "code",
   "execution_count": null,
   "metadata": {},
   "outputs": [],
   "source": []
  },
  {
   "cell_type": "markdown",
   "metadata": {},
   "source": [
    "**wa records** "
   ]
  },
  {
   "cell_type": "code",
   "execution_count": 33,
   "metadata": {},
   "outputs": [],
   "source": [
    "wa_unique_name_cnt = wa.groupby(['uid'])['wa_name'].agg({'wa_name_unique_count': lambda x: len(pd.unique(x))}).reset_index()\n"
   ]
  },
  {
   "cell_type": "code",
   "execution_count": 34,
   "metadata": {},
   "outputs": [],
   "source": [
    "wa_onehot_type_cnt = wa.groupby(['uid','wa_type'])['uid'].count().unstack().add_prefix('wa_type_').reset_index().fillna(0)\n"
   ]
  },
  {
   "cell_type": "code",
   "execution_count": 36,
   "metadata": {},
   "outputs": [],
   "source": [
    "wa_visit_cnt_val = wa.groupby(['uid'])['visit_cnt'].agg(['std','max','min','median','mean','sum']).add_prefix('wa_visit_cnt_').reset_index()\n",
    "wa_visit_dura_val = wa.groupby(['uid'])['visit_dura'].agg(['std','max','min','median','mean','sum']).add_prefix('wa_visit_dura_').reset_index()\n",
    "wa_up_flow_val = wa.groupby(['uid'])['up_flow'].agg(['std','max','min','median','mean','sum']).add_prefix('wa_up_flow_').reset_index()\n",
    "wa_down_flow_val = wa.groupby(['uid'])['down_flow'].agg(['std','max','min','median','mean','sum']).add_prefix('wa_down_flow_').reset_index()\n"
   ]
  },
  {
   "cell_type": "code",
   "execution_count": null,
   "metadata": {},
   "outputs": [],
   "source": [
    "wa['wa_mean_dura_per_visit'] = wa.visit_dura / wa.visit_cnt"
   ]
  },
  {
   "cell_type": "code",
   "execution_count": null,
   "metadata": {},
   "outputs": [],
   "source": []
  },
  {
   "cell_type": "code",
   "execution_count": 76,
   "metadata": {},
   "outputs": [],
   "source": [
    "feature = [\n",
    "    voice_cnt,\n",
    "    voice_unique_num_cnt,\n",
    "    voice_unique_head_cnt,\n",
    "    voice_onehot_len_cnt,\n",
    "    voice_onehot_type_cnt,\n",
    "    voice_onehot_inout_cnt,\n",
    "    voice_dura_val,\n",
    "    sms_cnt,\n",
    "    sms_unique_num_cnt,\n",
    "    sms_unique_head_cnt,\n",
    "    sms_onehot_len_cnt,\n",
    "    sms_onehot_inout_cnt,\n",
    "    wa_unique_name_cnt,\n",
    "    wa_onehot_type_cnt,\n",
    "    wa_visit_cnt_val,\n",
    "    wa_visit_dura_val,\n",
    "    wa_up_flow_val,\n",
    "    wa_down_flow_val\n",
    "]"
   ]
  },
  {
   "cell_type": "code",
   "execution_count": 77,
   "metadata": {},
   "outputs": [],
   "source": [
    "train_feature = uid_train\n",
    "for feat in feature:\n",
    "    train_feature=pd.merge(train_feature,feat,how='left',on='uid')\n",
    "\n",
    "test_feature = uid_test\n",
    "for feat in feature:\n",
    "    test_feature=pd.merge(test_feature,feat,how='left',on='uid')"
   ]
  },
  {
   "cell_type": "code",
   "execution_count": 78,
   "metadata": {},
   "outputs": [],
   "source": [
    "train_feature.to_csv('./train_feature.csv',index=None)\n",
    "test_feature.to_csv('./test_feature.csv',index=None)"
   ]
  },
  {
   "cell_type": "code",
   "execution_count": null,
   "metadata": {},
   "outputs": [],
   "source": []
  },
  {
   "cell_type": "code",
   "execution_count": 79,
   "metadata": {},
   "outputs": [],
   "source": [
    "### MODEL ###"
   ]
  },
  {
   "cell_type": "code",
   "execution_count": 80,
   "metadata": {},
   "outputs": [],
   "source": [
    "import pandas as pd\n",
    "import numpy as np\n",
    "import lightgbm as lgb\n",
    "from sklearn import metrics\n",
    "import matplotlib.pyplot as plt\n",
    "import seaborn as sns"
   ]
  },
  {
   "cell_type": "code",
   "execution_count": 81,
   "metadata": {},
   "outputs": [],
   "source": [
    "train = pd.read_csv('./train_feature.csv')\n",
    "test = pd.read_csv('./test_feature.csv')"
   ]
  },
  {
   "cell_type": "code",
   "execution_count": 82,
   "metadata": {},
   "outputs": [],
   "source": [
    "dtrain = lgb.Dataset(train.drop(['uid','label'],axis=1),label=train.label)\n",
    "dtest = lgb.Dataset(test.drop(['uid'],axis=1))"
   ]
  },
  {
   "cell_type": "code",
   "execution_count": 87,
   "metadata": {},
   "outputs": [],
   "source": [
    "lgb_params =  {\n",
    "    'boosting_type': 'gbdt',\n",
    "    'objective': 'binary',\n",
    "#    'metric': ('multi_logloss', 'multi_error'),\n",
    "    #'metric_freq': 100,\n",
    "    'is_training_metric': False,\n",
    "    'min_data_in_leaf': 12,\n",
    "    'num_leaves': 20,\n",
    "    'learning_rate': 0.08,\n",
    "    'feature_fraction': 0.8,\n",
    "    'bagging_fraction': 0.8,\n",
    "    'verbosity':-1,\n",
    "#    'gpu_device_id':2,\n",
    "#    'device':'gpu'\n",
    "#    'lambda_l1': 0.001,\n",
    "#    'skip_drop': 0.95,\n",
    "#    'max_drop' : 10\n",
    "    #'lambda_l2': 0.005\n",
    "    #'num_threads': 18\n",
    "}    "
   ]
  },
  {
   "cell_type": "code",
   "execution_count": 84,
   "metadata": {},
   "outputs": [],
   "source": [
    "def evalMetric(preds,dtrain):\n",
    "    label = dtrain.get_label()\n",
    "    pre = pd.DataFrame({'preds':preds,'label':label})\n",
    "    pre= pre.sort_values(by='preds',ascending=False)\n",
    "    auc = metrics.roc_auc_score(pre.label,pre.preds)\n",
    "    pre.preds=pre.preds.map(lambda x: 1 if x>=0.5 else 0)\n",
    "    f1 = metrics.f1_score(pre.label,pre.preds)\n",
    "    res = 0.6*auc +0.4*f1\n",
    "    return 'res',res,True"
   ]
  },
  {
   "cell_type": "code",
   "execution_count": 88,
   "metadata": {},
   "outputs": [
    {
     "name": "stdout",
     "output_type": "stream",
     "text": [
      "[5]\tcv_agg's res: 0.73231 + 0.00747884\n",
      "[10]\tcv_agg's res: 0.745173 + 0.00490622\n",
      "[15]\tcv_agg's res: 0.754866 + 0.00764463\n",
      "[20]\tcv_agg's res: 0.758771 + 0.0145163\n",
      "[25]\tcv_agg's res: 0.761768 + 0.00961862\n",
      "[30]\tcv_agg's res: 0.764256 + 0.00733368\n",
      "[35]\tcv_agg's res: 0.765637 + 0.0105603\n",
      "[40]\tcv_agg's res: 0.765877 + 0.0114144\n",
      "[45]\tcv_agg's res: 0.768032 + 0.0122545\n",
      "[50]\tcv_agg's res: 0.769798 + 0.0130991\n",
      "[55]\tcv_agg's res: 0.768481 + 0.0138534\n",
      "[60]\tcv_agg's res: 0.768026 + 0.0126506\n",
      "[65]\tcv_agg's res: 0.767461 + 0.0128214\n",
      "[70]\tcv_agg's res: 0.772113 + 0.0135535\n",
      "[75]\tcv_agg's res: 0.771964 + 0.0154801\n",
      "[80]\tcv_agg's res: 0.769938 + 0.0157634\n",
      "[85]\tcv_agg's res: 0.769979 + 0.013697\n",
      "[90]\tcv_agg's res: 0.7689 + 0.0149098\n",
      "[95]\tcv_agg's res: 0.768318 + 0.0161838\n",
      "[100]\tcv_agg's res: 0.769678 + 0.0166503\n",
      "[105]\tcv_agg's res: 0.768798 + 0.016363\n",
      "[110]\tcv_agg's res: 0.769123 + 0.0145957\n",
      "[115]\tcv_agg's res: 0.770736 + 0.0113486\n",
      "[120]\tcv_agg's res: 0.769576 + 0.0114143\n",
      "[125]\tcv_agg's res: 0.768425 + 0.0123251\n",
      "[130]\tcv_agg's res: 0.766653 + 0.0133035\n",
      "[135]\tcv_agg's res: 0.767005 + 0.0121947\n",
      "[140]\tcv_agg's res: 0.767608 + 0.0128447\n",
      "[145]\tcv_agg's res: 0.76904 + 0.011215\n",
      "[150]\tcv_agg's res: 0.77032 + 0.0126058\n",
      "[155]\tcv_agg's res: 0.769513 + 0.0117078\n",
      "[160]\tcv_agg's res: 0.76808 + 0.0123788\n",
      "[165]\tcv_agg's res: 0.767302 + 0.0123727\n",
      "[170]\tcv_agg's res: 0.767541 + 0.0107476\n"
     ]
    },
    {
     "data": {
      "text/plain": [
       "{'res-mean': [0.69233437687815247,\n",
       "  0.71695884205636917,\n",
       "  0.73211731882101672,\n",
       "  0.72465235011757645,\n",
       "  0.73230983744009137,\n",
       "  0.72675657819556327,\n",
       "  0.73939068166402799,\n",
       "  0.74095069814535142,\n",
       "  0.74188797144032981,\n",
       "  0.7451729592308548,\n",
       "  0.75162044933991023,\n",
       "  0.75142291151626006,\n",
       "  0.75299422281830586,\n",
       "  0.75580602278033249,\n",
       "  0.75486569659258729,\n",
       "  0.75678085672051731,\n",
       "  0.75793798613456831,\n",
       "  0.76084361189474381,\n",
       "  0.75970675638293284,\n",
       "  0.75877087918291386,\n",
       "  0.75656554444630053,\n",
       "  0.75839260776024064,\n",
       "  0.76214368889139428,\n",
       "  0.75997230322993026,\n",
       "  0.76176828821564901,\n",
       "  0.76126752950805077,\n",
       "  0.76116112809682546,\n",
       "  0.76357142606838579,\n",
       "  0.76372241035458677,\n",
       "  0.7642562783254383,\n",
       "  0.76488141063020887,\n",
       "  0.76361485172754717,\n",
       "  0.76592381376569529,\n",
       "  0.76682478851164537,\n",
       "  0.76563696622042487,\n",
       "  0.7667025471096709,\n",
       "  0.76663595911646631,\n",
       "  0.76637632260987765,\n",
       "  0.76588525391693663,\n",
       "  0.76587651989917482,\n",
       "  0.76654952699073464,\n",
       "  0.76722349710233695,\n",
       "  0.76705962122818949,\n",
       "  0.76668338109105727,\n",
       "  0.76803168147348477,\n",
       "  0.76842584203608155,\n",
       "  0.76845698518010719,\n",
       "  0.7710377415710522,\n",
       "  0.76988814887507662,\n",
       "  0.76979848376658877,\n",
       "  0.77028877727546086,\n",
       "  0.77137532178460544,\n",
       "  0.76914718818496297,\n",
       "  0.76890587784899334,\n",
       "  0.76848108076904342,\n",
       "  0.76859032702856167,\n",
       "  0.77000688073740287,\n",
       "  0.76843465885456874,\n",
       "  0.76862076263406742,\n",
       "  0.76802637160636988,\n",
       "  0.7668082232946748,\n",
       "  0.76711964239076824,\n",
       "  0.76594012138604362,\n",
       "  0.76675271032485171,\n",
       "  0.76746066004824776,\n",
       "  0.76920166260835432,\n",
       "  0.77042077024091238,\n",
       "  0.77214911378686113,\n",
       "  0.77116356407798126,\n",
       "  0.77211283948740073,\n",
       "  0.77236077781001411,\n",
       "  0.77266716210927833],\n",
       " 'res-stdv': [0.030497202903699266,\n",
       "  0.015447665712649748,\n",
       "  0.0022754962067544431,\n",
       "  0.0084491820962415854,\n",
       "  0.0074788351854396876,\n",
       "  0.011287175604971869,\n",
       "  0.007927055206404585,\n",
       "  0.0054909830574425928,\n",
       "  0.0082791491624120243,\n",
       "  0.0049062233675017958,\n",
       "  0.0080528086984772082,\n",
       "  0.0077843678651137917,\n",
       "  0.0083268183371611234,\n",
       "  0.0078491070375067192,\n",
       "  0.0076446289883903493,\n",
       "  0.004921136470685125,\n",
       "  0.01101537139008062,\n",
       "  0.011162731327519586,\n",
       "  0.013782264237080689,\n",
       "  0.014516255955237096,\n",
       "  0.011685325421935388,\n",
       "  0.0082590546449302533,\n",
       "  0.0096206440605716079,\n",
       "  0.011075336127329938,\n",
       "  0.0096186153454184825,\n",
       "  0.0086180281416476344,\n",
       "  0.012869912373303738,\n",
       "  0.011714842806292482,\n",
       "  0.010750601462471001,\n",
       "  0.0073336822091102684,\n",
       "  0.0087722373133173707,\n",
       "  0.008393295683056504,\n",
       "  0.012568214653783575,\n",
       "  0.012127231501227078,\n",
       "  0.010560309103730917,\n",
       "  0.011152003344342543,\n",
       "  0.010572036578365005,\n",
       "  0.010865651105437231,\n",
       "  0.0093809421189763164,\n",
       "  0.011414364766835945,\n",
       "  0.010196809604382151,\n",
       "  0.010912837945796639,\n",
       "  0.0105892005757001,\n",
       "  0.010255185079906524,\n",
       "  0.012254538792166068,\n",
       "  0.012232819859806924,\n",
       "  0.01121685038638422,\n",
       "  0.013869538325154007,\n",
       "  0.014087598310541008,\n",
       "  0.013099098777586948,\n",
       "  0.013045050159852162,\n",
       "  0.012494642721967651,\n",
       "  0.012132724859114791,\n",
       "  0.013612829468568293,\n",
       "  0.013853397664046628,\n",
       "  0.011997492212945601,\n",
       "  0.012776031747002779,\n",
       "  0.012773070116013589,\n",
       "  0.01173359668607042,\n",
       "  0.012650645660448013,\n",
       "  0.012728823309043806,\n",
       "  0.011568249742037953,\n",
       "  0.01137145371459268,\n",
       "  0.010744969290454182,\n",
       "  0.01282137785527347,\n",
       "  0.013451288298387112,\n",
       "  0.012947092056216537,\n",
       "  0.014136567217504113,\n",
       "  0.012645720601305111,\n",
       "  0.013553518420776631,\n",
       "  0.013444867257648365,\n",
       "  0.014275726950953147]}"
      ]
     },
     "execution_count": 88,
     "metadata": {},
     "output_type": "execute_result"
    }
   ],
   "source": [
    "lgb.cv(lgb_params,dtrain,feval=evalMetric,early_stopping_rounds=100,verbose_eval=5,num_boost_round=10000,nfold=3,metrics=['evalMetric'])"
   ]
  },
  {
   "cell_type": "code",
   "execution_count": 86,
   "metadata": {
    "scrolled": true
   },
   "outputs": [
    {
     "name": "stdout",
     "output_type": "stream",
     "text": [
      "[5]\ttraining's res: 0.88917\n",
      "[10]\ttraining's res: 0.911595\n",
      "[15]\ttraining's res: 0.923948\n",
      "[20]\ttraining's res: 0.9356\n",
      "[25]\ttraining's res: 0.946514\n",
      "[30]\ttraining's res: 0.959568\n",
      "[35]\ttraining's res: 0.968393\n",
      "[40]\ttraining's res: 0.975463\n",
      "[45]\ttraining's res: 0.98213\n",
      "[50]\ttraining's res: 0.987562\n",
      "[55]\ttraining's res: 0.992838\n",
      "[60]\ttraining's res: 0.995221\n",
      "[65]\ttraining's res: 0.997067\n",
      "[70]\ttraining's res: 0.99798\n",
      "[75]\ttraining's res: 0.999107\n",
      "[80]\ttraining's res: 0.999555\n",
      "[85]\ttraining's res: 1\n",
      "[90]\ttraining's res: 1\n",
      "[95]\ttraining's res: 1\n",
      "[100]\ttraining's res: 1\n",
      "[105]\ttraining's res: 1\n",
      "[110]\ttraining's res: 1\n",
      "[115]\ttraining's res: 1\n",
      "[120]\ttraining's res: 1\n",
      "[125]\ttraining's res: 1\n",
      "[130]\ttraining's res: 1\n",
      "[135]\ttraining's res: 1\n",
      "[140]\ttraining's res: 1\n",
      "[145]\ttraining's res: 1\n",
      "[150]\ttraining's res: 1\n",
      "[155]\ttraining's res: 1\n",
      "[160]\ttraining's res: 1\n",
      "[165]\ttraining's res: 1\n",
      "[170]\ttraining's res: 1\n",
      "[175]\ttraining's res: 1\n",
      "[180]\ttraining's res: 1\n",
      "[185]\ttraining's res: 1\n",
      "[190]\ttraining's res: 1\n",
      "[195]\ttraining's res: 1\n",
      "[200]\ttraining's res: 1\n",
      "[205]\ttraining's res: 1\n",
      "[210]\ttraining's res: 1\n",
      "[215]\ttraining's res: 1\n",
      "[220]\ttraining's res: 1\n",
      "[225]\ttraining's res: 1\n",
      "[230]\ttraining's res: 1\n",
      "[235]\ttraining's res: 1\n",
      "[240]\ttraining's res: 1\n",
      "[245]\ttraining's res: 1\n",
      "[250]\ttraining's res: 1\n",
      "[255]\ttraining's res: 1\n",
      "[260]\ttraining's res: 1\n",
      "[265]\ttraining's res: 1\n",
      "[270]\ttraining's res: 1\n",
      "[275]\ttraining's res: 1\n",
      "[280]\ttraining's res: 1\n",
      "[285]\ttraining's res: 1\n",
      "[290]\ttraining's res: 1\n",
      "[295]\ttraining's res: 1\n",
      "[300]\ttraining's res: 1\n"
     ]
    }
   ],
   "source": [
    "model =lgb.train(lgb_params,dtrain,feval=evalMetric,verbose_eval=5,num_boost_round=300,valid_sets=[dtrain])"
   ]
  },
  {
   "cell_type": "code",
   "execution_count": null,
   "metadata": {},
   "outputs": [],
   "source": [
    "pred = model.predict(test.drop(['uid'],axis=1))\n",
    "res = pd.DataFrame({'uid':test.uid,'label':pred})\n",
    "res = res.sort_values(by='label',ascending=False)\n",
    "res.label = res.label.map(lambda x: 1 if x>=0.5 else 0)\n",
    "res.label = res.label.map(lambda x: int(x))\n",
    "\n",
    "res.to_csv('./result.csv',index=False,header=False,sep=',',columns=['uid','label'])"
   ]
  }
 ],
 "metadata": {
  "kernelspec": {
   "display_name": "Python 2",
   "language": "python",
   "name": "python2"
  },
  "language_info": {
   "codemirror_mode": {
    "name": "ipython",
    "version": 2
   },
   "file_extension": ".py",
   "mimetype": "text/x-python",
   "name": "python",
   "nbconvert_exporter": "python",
   "pygments_lexer": "ipython2",
   "version": "2.7.14"
  }
 },
 "nbformat": 4,
 "nbformat_minor": 2
}
